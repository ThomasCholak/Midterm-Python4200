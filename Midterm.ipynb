{
 "cells": [
  {
   "cell_type": "code",
   "execution_count": 3,
   "id": "e71ba106-4521-461b-967f-2c1b2f7cb19b",
   "metadata": {},
   "outputs": [
    {
     "name": "stdout",
     "output_type": "stream",
     "text": [
      "Please enter 10 numbers (hit enter after entering each integer):\n"
     ]
    },
    {
     "name": "stdin",
     "output_type": "stream",
     "text": [
      " 6\n",
      " 10\n",
      " 90\n",
      " 34\n",
      " 67\n",
      " 89\n",
      " 50\n",
      " 43\n",
      " 21\n",
      " 45\n"
     ]
    },
    {
     "name": "stdout",
     "output_type": "stream",
     "text": [
      "The top three values are 90, 89 and 67.\n"
     ]
    }
   ],
   "source": [
    "# Thomas Cholak\n",
    "\n",
    "# Problem 3\n",
    "\n",
    "from array import *\n",
    "\n",
    "arr = []\n",
    "\n",
    "\n",
    "def sort():  # function for sorting the integers\n",
    "    for k in range(len(lst)):\n",
    "        for j in range(k + 1, len(lst)):\n",
    "            if lst[k] > lst[j]:\n",
    "                lst[k], lst[j] = lst[j], lst[k]\n",
    "    print(f'The top three values are {lst[9]}, {lst[8]} and {lst[7]}.')\n",
    "\n",
    "\n",
    "print('Please enter 10 numbers (hit enter after entering each integer):')  # places integers into a list\n",
    "for i in range(0, 10):\n",
    "    ele = int(input())\n",
    "    arr.append(ele)\n",
    "\n",
    "lst = array('i', arr)\n",
    "sort()"
   ]
  },
  {
   "cell_type": "code",
   "execution_count": 4,
   "id": "889bf74f-de9c-496d-bc29-2a5743cb0218",
   "metadata": {},
   "outputs": [
    {
     "name": "stdin",
     "output_type": "stream",
     "text": [
      "Please enter an integer:\n",
      " 11\n"
     ]
    },
    {
     "name": "stdout",
     "output_type": "stream",
     "text": [
      "11 * 10 * 9 * 8 * 7 * 6 * 5 * 4 * 3 * 2 * 1 = 39916800\n"
     ]
    }
   ],
   "source": [
    "# Thomas Cholak\n",
    "\n",
    "# Problem 4\n",
    "\n",
    "n = int(input(\"Please enter an integer:\\n\"))\n",
    "\n",
    "lst = []\n",
    "\n",
    "\n",
    "def printing_factorial(m):  # function for printing out factorial equation\n",
    "    for i in reversed(range(m + 1)):\n",
    "        lst.append(i)\n",
    "    del lst[-1]\n",
    "    string = ','.join(str(x) for x in lst)\n",
    "    string = string.replace(',', ' * ')  # replaces commas with '*' symbol\n",
    "    print(f'{string} = {calculate_factorial(n)}')  # calls on factorial function\n",
    "\n",
    "\n",
    "def calculate_factorial(m):\n",
    "    if m == 1:\n",
    "        return 1\n",
    "    else:\n",
    "        return m * calculate_factorial(m - 1)  # recursively finds factorial of 1\n",
    "\n",
    "\n",
    "printing_factorial(n)"
   ]
  },
  {
   "cell_type": "code",
   "execution_count": null,
   "id": "f4984342-4058-4b05-836e-ffd4e91c35fa",
   "metadata": {},
   "outputs": [],
   "source": [
    "# Thomas Cholak\n",
    "\n",
    "# Problem 5\n",
    "\n",
    "import re\n",
    "\n",
    "stack = []\n",
    "\n",
    "\n",
    "def reverse(s):  # function for reversing string using stack\n",
    "    for i in s:\n",
    "        stack.append(i)  # adds to stack\n",
    "    s = \"\"\n",
    "    while stack:\n",
    "        s += stack.pop()  # removes top-layer of stack\n",
    "    return s\n",
    "\n",
    "\n",
    "def is_palindrome(m):\n",
    "    text2 = re.sub(r'\\W+', '', m)  # removes all non-alphanumeric characters\n",
    "    text3 = reverse(text2)  # reverses string\n",
    "    return bool(text2.casefold() == text3.casefold())  # returns true or false value (ignores upper-case)\n",
    "\n",
    "\n",
    "text1 = input(\"Please enter a word: \\n\")  # user-entered data\n",
    "\n",
    "if is_palindrome(text1):  # outputs based on boolean value\n",
    "    print(f'Your text \"{text1}\" is a palindrome.')\n",
    "else:\n",
    "    print(f'Your text \"{text1}\" is not a palindrome.')"
   ]
  },
  {
   "cell_type": "code",
   "execution_count": 7,
   "id": "b0d6b9c8-881e-4413-84cf-f1647b86eb84",
   "metadata": {},
   "outputs": [
    {
     "name": "stdout",
     "output_type": "stream",
     "text": [
      "Numbers   dth power\n",
      "3         9              \n",
      "10        100            \n",
      "4         16             \n",
      "32        1024           \n",
      "22        484            \n",
      "23        529            \n",
      "15        225            \n",
      "5         25             \n",
      "8         64             \n"
     ]
    }
   ],
   "source": [
    "# Thomas Cholak\n",
    "\n",
    "# Problem 6\n",
    "\n",
    "d = [3, 10, 4, 32, 22, 23, 15, 5, 4, 8]  # string of 10 random integers\n",
    "\n",
    "squares = []\n",
    "for i in d:\n",
    "    square = i ** 2\n",
    "    squares.append(square)\n",
    "\n",
    "table = {  # creates key and values\n",
    "    d[0]: [squares[0]],\n",
    "    d[1]: [squares[1]],\n",
    "    d[2]: [squares[2]],\n",
    "    d[3]: [squares[3]],\n",
    "    d[4]: [squares[4]],\n",
    "    d[5]: [squares[5]],\n",
    "    d[6]: [squares[6]],\n",
    "    d[7]: [squares[7]],\n",
    "    d[8]: [squares[8]],\n",
    "    d[9]: [squares[9]],\n",
    "}\n",
    "\n",
    "headers = ['Numbers', 'dth power']\n",
    "\n",
    "print(f'{headers[0]: <10}{headers[1]}')  # prints table\n",
    "\n",
    "for key, value in table.items():\n",
    "    print(f'{key: <10}{value[0]: <15}')"
   ]
  },
  {
   "cell_type": "code",
   "execution_count": 8,
   "id": "c689f971-5f22-46ac-bcdd-fe2e6e2c87db",
   "metadata": {},
   "outputs": [
    {
     "name": "stdin",
     "output_type": "stream",
     "text": [
      "Please enter text: \n",
      " goofball\n"
     ]
    },
    {
     "name": "stdout",
     "output_type": "stream",
     "text": [
      "The most common word is 'goofball' and it appears 1 times.\n"
     ]
    }
   ],
   "source": [
    "# Thomas Cholak\n",
    "\n",
    "# Problem 7\n",
    "\n",
    "from collections import Counter\n",
    "import re\n",
    "\n",
    "txt = input('Please enter text: \\n')\n",
    "\n",
    "x = txt.split()\n",
    "\n",
    "\n",
    "def count_words(k):\n",
    "    y = Counter(k)\n",
    "    a = y.most_common(1)  # finds most common word\n",
    "\n",
    "    string = str(a)  # converts dictionary entry to string\n",
    "    s = re.sub(r'[^A-Za-z0-9 ]+', '', string)  # removes all non-alphanumeric characters except spaces\n",
    "    b = s.split()\n",
    "    return b\n",
    "\n",
    "\n",
    "c = count_words(x)  # most common word is returned to main code body\n",
    "\n",
    "\n",
    "print(f\"The most common word is '{c[0]}' and it appears {c[1]} times.\")  # pull values from 'c' array"
   ]
  },
  {
   "cell_type": "code",
   "execution_count": null,
   "id": "081fcbc8-6849-4307-876d-c776d96aa8ef",
   "metadata": {},
   "outputs": [],
   "source": []
  }
 ],
 "metadata": {
  "kernelspec": {
   "display_name": "Python 3 (ipykernel)",
   "language": "python",
   "name": "python3"
  },
  "language_info": {
   "codemirror_mode": {
    "name": "ipython",
    "version": 3
   },
   "file_extension": ".py",
   "mimetype": "text/x-python",
   "name": "python",
   "nbconvert_exporter": "python",
   "pygments_lexer": "ipython3",
   "version": "3.11.3"
  }
 },
 "nbformat": 4,
 "nbformat_minor": 5
}
